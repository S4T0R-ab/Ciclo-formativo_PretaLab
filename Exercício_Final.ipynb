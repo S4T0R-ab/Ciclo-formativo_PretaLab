{
  "nbformat": 4,
  "nbformat_minor": 0,
  "metadata": {
    "colab": {
      "provenance": [],
      "include_colab_link": true
    },
    "kernelspec": {
      "name": "python3",
      "display_name": "Python 3"
    },
    "language_info": {
      "name": "python"
    }
  },
  "cells": [
    {
      "cell_type": "markdown",
      "metadata": {
        "id": "view-in-github",
        "colab_type": "text"
      },
      "source": [
        "<a href=\"https://colab.research.google.com/github/S4T0R-ab/Ciclo-formativo_PretaLab/blob/main/Exerc%C3%ADcio_Final.ipynb\" target=\"_parent\"><img src=\"https://colab.research.google.com/assets/colab-badge.svg\" alt=\"Open In Colab\"/></a>"
      ]
    },
    {
      "cell_type": "markdown",
      "source": [
        "# Contagem de Medalhas\n",
        "\n",
        "Crie um programa que receba o número de medalhas de ouro, prata e bronze de um país nas Olimpíadas e calcule o total de medalhas.\n",
        "Quando escrever 'sair', o programa deverá encerrar e mostrar na tela o ranking de medalhas no formato:"
      ],
      "metadata": {
        "id": "RQN1e5FZY6SZ"
      }
    },
    {
      "cell_type": "code",
      "source": [
        "#Ranking de medalhas:\n",
        "#Brasil: 7 medalhas\n",
        "#França: 6 medalhas\n",
        "#Argentina: 3 medalhas\n"
      ],
      "metadata": {
        "id": "gCq_KLHzZSzb"
      },
      "execution_count": 2,
      "outputs": []
    },
    {
      "cell_type": "code",
      "source": [
        "# Resposta aqui\n",
        "# Inicializa um dicionário para armazenar os dados dos países\n",
        "ranking = {}\n",
        "\n",
        "def adicionar_medalhas(pais):\n",
        "    \"\"\"Solicita e adiciona o número de medalhas de um país ao ranking.\"\"\"\n",
        "    try:\n",
        "        ouro = int(input(f\"Digite o número de medalhas de ouro de {pais}: \"))\n",
        "        prata = int(input(f\"Digite o número de medalhas de prata de {pais}: \"))\n",
        "        bronze = int(input(f\"Digite o número de medalhas de bronze de {pais}: \"))\n",
        "\n",
        "        if ouro < 0 or prata < 0 or bronze < 0:\n",
        "            print(\"O número de medalhas não pode ser negativo. Tente novamente.\")\n",
        "            return\n",
        "\n",
        "        total = ouro + prata + bronze\n",
        "        ranking[pais] = {'ouro': ouro, 'prata': prata, 'bronze': bronze, 'total': total}\n",
        "    except ValueError:\n",
        "        print(\"Por favor, insira um número válido.\")\n",
        "\n",
        "def mostrar_ranking():\n",
        "    \"\"\"Exibe o ranking de medalhas e um bônus para o país com mais medalhas de ouro.\"\"\"\n",
        "    if not ranking:\n",
        "        print(\"Nenhum dado de medalhas foi registrado.\")\n",
        "        return\n",
        "\n",
        "    print(\"\\nRanking de Medalhas:\")\n",
        "    for pais, medalhas in sorted(ranking.items(), key=lambda x: x[1]['total'], reverse=True):\n",
        "        print(f\"{pais}: Ouro: {medalhas['ouro']}, Prata: {medalhas['prata']}, Bronze: {medalhas['bronze']}, Total: {medalhas['total']}\")\n",
        "\n",
        "    # Encontrar e exibir o país com mais medalhas de ouro\n",
        "    pais_ouro_max = max(ranking, key=lambda x: ranking[x]['ouro'])\n",
        "    ouro_max = ranking[pais_ouro_max]['ouro']\n",
        "    print(f\"\\nResultado: O país com mais medalhas de ouro é {pais_ouro_max} com {ouro_max} medalhas de ouro!\")\n",
        "\n",
        "    # Mensagem de parabéns para atletas específicos\n",
        "    atletas = {\n",
        "        \"Rafaela Silva\": \"Judô\",\n",
        "        \"Rebeca Andrade\": \"Ginástica\",\n",
        "        \"Simone Biles\": \"Ginástica\"\n",
        "    }\n",
        "    print(\"\\nParabéns aos atletas que ganharam medalha de ouro:\")\n",
        "    for atleta, esporte in atletas.items():\n",
        "        print(f\"{atleta}, do {esporte}, pela premiação da medalha de ouro!\")\n",
        "\n",
        "    # Mensagem de agradecimento e reconhecimento\n",
        "    print(\"\\nFoi emocionante assistir as Olimpíadas 2024, com 3 mulheres pretas representando de maneira exímia os jogos,\\nque por muito tempo foram vistos como espaço massivamente branco e masculino. Vocês merecem o mundo!\")\n",
        "\n",
        "def main():\n",
        "    while True:\n",
        "        pais = input(\"Digite o nome do país (ou 'sair' para encerrar): \").strip()\n",
        "        if pais.lower() == 'sair':\n",
        "            break\n",
        "        if pais.lower() == 'encerrar':\n",
        "            print(\"O nome 'encerrar' não pode ser usado como um país. Tente novamente.\")\n",
        "            continue\n",
        "        adicionar_medalhas(pais)\n",
        "\n",
        "    mostrar_ranking()\n",
        "\n",
        "# Executa o programa\n",
        "main()\n"
      ],
      "metadata": {
        "colab": {
          "base_uri": "https://localhost:8080/"
        },
        "id": "4-4ge5u9xNIB",
        "outputId": "a1dd38cc-c1d3-4de7-e1bc-086a3bb41e2d"
      },
      "execution_count": 9,
      "outputs": [
        {
          "output_type": "stream",
          "name": "stdout",
          "text": [
            "Digite o nome do país (ou 'sair' para encerrar): Brasil\n",
            "Digite o número de medalhas de ouro de Brasil: 15\n",
            "Digite o número de medalhas de prata de Brasil: 12\n",
            "Digite o número de medalhas de bronze de Brasil: 10\n",
            "Digite o nome do país (ou 'sair' para encerrar): França\n",
            "Digite o número de medalhas de ouro de França: 10\n",
            "Digite o número de medalhas de prata de França: 8\n",
            "Digite o número de medalhas de bronze de França: 6\n",
            "Digite o nome do país (ou 'sair' para encerrar): Argentina\n",
            "Digite o número de medalhas de ouro de Argentina: 8\n",
            "Digite o número de medalhas de prata de Argentina: 6\n",
            "Digite o número de medalhas de bronze de Argentina: 4\n",
            "Digite o nome do país (ou 'sair' para encerrar): sair\n",
            "\n",
            "Ranking de Medalhas:\n",
            "Brasil: Ouro: 15, Prata: 12, Bronze: 10, Total: 37\n",
            "França: Ouro: 10, Prata: 8, Bronze: 6, Total: 24\n",
            "Argentina: Ouro: 8, Prata: 6, Bronze: 4, Total: 18\n",
            "\n",
            "Resultado: O país com mais medalhas de ouro é Brasil com 15 medalhas de ouro!\n",
            "\n",
            "Parabéns aos atletas que ganharam medalha de ouro:\n",
            "Rafaela Silva, do Judô, pela premiação da medalha de ouro!\n",
            "Rebeca Andrade, do Ginástica, pela premiação da medalha de ouro!\n",
            "Simone Biles, do Ginástica, pela premiação da medalha de ouro!\n",
            "\n",
            "Foi emocionante assistir as Olimpíadas 2024, com 3 mulheres pretas representando de maneira exímia os jogos,\n",
            "que por muito tempo foram vistos como espaço massivamente branco e masculino. Vocês merecem o mundo!\n"
          ]
        }
      ]
    },
    {
      "cell_type": "code",
      "source": [
        "# Aqui eu simulo uma situação de empate\n",
        "# Inicializa um dicionário para armazenar os dados dos países\n",
        "ranking = {}\n",
        "\n",
        "def adicionar_medalhas(pais):\n",
        "    \"\"\"Solicita e adiciona o número de medalhas de um país ao ranking.\"\"\"\n",
        "    try:\n",
        "        ouro = int(input(f\"Digite o número de medalhas de ouro de {pais}: \"))\n",
        "        prata = int(input(f\"Digite o número de medalhas de prata de {pais}: \"))\n",
        "        bronze = int(input(f\"Digite o número de medalhas de bronze de {pais}: \"))\n",
        "\n",
        "        if ouro < 0 or prata < 0 or bronze < 0:\n",
        "            print(\"O número de medalhas não pode ser negativo. Tente novamente.\")\n",
        "            return\n",
        "\n",
        "        total = ouro + prata + bronze\n",
        "        ranking[pais] = {'ouro': ouro, 'prata': prata, 'bronze': bronze, 'total': total}\n",
        "    except ValueError:\n",
        "        print(\"Por favor, insira um número válido.\")\n",
        "\n",
        "def mostrar_ranking():\n",
        "    \"\"\"Exibe o ranking de medalhas e trata possíveis empates no número de medalhas de ouro.\"\"\"\n",
        "    if not ranking:\n",
        "        print(\"Nenhum dado de medalhas foi registrado.\")\n",
        "        return\n",
        "\n",
        "    # Ordena os países pelo total de medalhas em ordem decrescente\n",
        "    ranking_ordenado = sorted(ranking.items(), key=lambda x: x[1]['total'], reverse=True)\n",
        "\n",
        "    print(\"\\nRanking de Medalhas:\")\n",
        "    for pais, medalhas in ranking_ordenado:\n",
        "        print(f\"{pais}: Ouro: {medalhas['ouro']}, Prata: {medalhas['prata']}, Bronze: {medalhas['bronze']}, Total: {medalhas['total']}\")\n",
        "\n",
        "    # Encontrar e exibir o(s) país(es) com mais medalhas de ouro\n",
        "    max_ouro = max(ranking[pais]['ouro'] for pais in ranking)\n",
        "    paises_empate = [pais for pais in ranking if ranking[pais]['ouro'] == max_ouro]\n",
        "\n",
        "    if len(paises_empate) == 1:\n",
        "        print(f\"\\nBônus: O país com mais medalhas de ouro é {paises_empate[0]} com {max_ouro} medalhas de ouro!\")\n",
        "    else:\n",
        "        print(\"\\nEmpate: Os seguintes países têm o maior número de medalhas de ouro:\")\n",
        "        for pais in paises_empate:\n",
        "            print(f\"- {pais} com {max_ouro} medalhas de ouro\")\n",
        "\n",
        "    # Mensagem de parabéns para atletas específicos\n",
        "    atletas = {\n",
        "        \"Rafaela Silva\": \"Judô\",\n",
        "        \"Rebeca Andrade\": \"Ginástica\",\n",
        "        \"Simone Biles\": \"Ginástica\"\n",
        "    }\n",
        "    print(\"\\nParabéns aos atletas que ganharam medalha de ouro:\")\n",
        "    for atleta, esporte in atletas.items():\n",
        "        print(f\"{atleta}, do {esporte}, pela premiação da medalha de ouro!\")\n",
        "\n",
        "    # Mensagem de agradecimento e reconhecimento\n",
        "    print(\"\\nFoi emocionante assistir as Olimpíadas 2024, com 3 mulheres pretas representando de maneira exímia os jogos,\")\n",
        "    print(\"que por muito tempo foram vistos como espaço massivamente branco e masculino. Vocês merecem o mundo!\")\n",
        "\n",
        "def main():\n",
        "    while True:\n",
        "        pais = input(\"Digite o nome do país (ou 'sair' para encerrar): \").strip()\n",
        "        if pais.lower() == 'sair':\n",
        "            break\n",
        "        if pais.lower() == 'encerrar':\n",
        "            print(\"O nome 'encerrar' não pode ser usado como um país. Tente novamente.\")\n",
        "            continue\n",
        "        adicionar_medalhas(pais)\n",
        "\n",
        "    mostrar_ranking()\n",
        "\n",
        "# Executa o programa\n",
        "main()\n"
      ],
      "metadata": {
        "id": "SeHPwkCA0s0y",
        "outputId": "685b6493-c102-4def-bbd8-55cea72c71bc",
        "colab": {
          "base_uri": "https://localhost:8080/"
        }
      },
      "execution_count": 10,
      "outputs": [
        {
          "output_type": "stream",
          "name": "stdout",
          "text": [
            "Digite o nome do país (ou 'sair' para encerrar): Brasil\n",
            "Digite o número de medalhas de ouro de Brasil: 15\n",
            "Digite o número de medalhas de prata de Brasil: 12\n",
            "Digite o número de medalhas de bronze de Brasil: 10\n",
            "Digite o nome do país (ou 'sair' para encerrar): França\n",
            "Digite o número de medalhas de ouro de França: 15\n",
            "Digite o número de medalhas de prata de França: 10\n",
            "Digite o número de medalhas de bronze de França: 11\n",
            "Digite o nome do país (ou 'sair' para encerrar): Argentina\n",
            "Digite o número de medalhas de ouro de Argentina: 15\n",
            "Digite o número de medalhas de prata de Argentina: 10\n",
            "Digite o número de medalhas de bronze de Argentina: 10\n",
            "Digite o nome do país (ou 'sair' para encerrar): sair\n",
            "\n",
            "Ranking de Medalhas:\n",
            "Brasil: Ouro: 15, Prata: 12, Bronze: 10, Total: 37\n",
            "França: Ouro: 15, Prata: 10, Bronze: 11, Total: 36\n",
            "Argentina: Ouro: 15, Prata: 10, Bronze: 10, Total: 35\n",
            "\n",
            "Empate: Os seguintes países têm o maior número de medalhas de ouro:\n",
            "- Brasil com 15 medalhas de ouro\n",
            "- França com 15 medalhas de ouro\n",
            "- Argentina com 15 medalhas de ouro\n",
            "\n",
            "Parabéns aos atletas que ganharam medalha de ouro:\n",
            "Rafaela Silva, do Judô, pela premiação da medalha de ouro!\n",
            "Rebeca Andrade, do Ginástica, pela premiação da medalha de ouro!\n",
            "Simone Biles, do Ginástica, pela premiação da medalha de ouro!\n",
            "\n",
            "Foi emocionante assistir as Olimpíadas 2024, com 3 mulheres pretas representando de maneira exímia os jogos,\n",
            "que por muito tempo foram vistos como espaço massivamente branco e masculino. Vocês merecem o mundo!\n"
          ]
        }
      ]
    }
  ]
}