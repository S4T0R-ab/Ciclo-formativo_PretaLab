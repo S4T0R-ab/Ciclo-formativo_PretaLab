{
  "nbformat": 4,
  "nbformat_minor": 0,
  "metadata": {
    "colab": {
      "provenance": [],
      "toc_visible": true,
      "include_colab_link": true
    },
    "kernelspec": {
      "name": "python3",
      "display_name": "Python 3"
    },
    "language_info": {
      "name": "python"
    }
  },
  "cells": [
    {
      "cell_type": "markdown",
      "metadata": {
        "id": "view-in-github",
        "colab_type": "text"
      },
      "source": [
        "<a href=\"https://colab.research.google.com/github/S4T0R-ab/Ciclo-formativo_PretaLab/blob/main/Exerc%C3%ADcios.ipynb\" target=\"_parent\"><img src=\"https://colab.research.google.com/assets/colab-badge.svg\" alt=\"Open In Colab\"/></a>"
      ]
    },
    {
      "cell_type": "markdown",
      "source": [
        "*Para a realização desses exercícios, peço que configurem para não aparecer sugestões da IA Gemini*"
      ],
      "metadata": {
        "id": "pAFFoVXs4XQo"
      }
    },
    {
      "cell_type": "markdown",
      "source": [
        "### A) **Utilizando variáveis, gere uma apresentação curta de sí mesma, como nesse exemplo**:\n",
        "\n"
      ],
      "metadata": {
        "id": "rZbJ_1LJ2DLf"
      }
    },
    {
      "cell_type": "code",
      "source": [
        "# Oi! Eu sou a Amanda, tenho 30 anos, moro em Salvador e meu signo é Gêmeos"
      ],
      "metadata": {
        "id": "ibKRn-P37-b2"
      },
      "execution_count": null,
      "outputs": []
    },
    {
      "cell_type": "code",
      "source": [
        "# Dica: As variáveis podem ser algo como:\n",
        "nome = 'Amanda'\n",
        "idade = 30\n",
        "cidade = 'Salvador'\n",
        "signo = 'Gêmeos'"
      ],
      "metadata": {
        "id": "n0Rjb0s_2ula"
      },
      "execution_count": 21,
      "outputs": []
    },
    {
      "cell_type": "code",
      "source": [
        "# Resposta aqui:\n",
        "# Variáveis\n",
        "nome = 'Esther'\n",
        "idade = 25\n",
        "cidade = 'Belo Horizonte'\n",
        "signo = 'Escorpião'\n",
        "curiosidade = 'Amo estudar'\n",
        "trabalho = 'tecnologia há quase dois anos'\n",
        "pretensão = 'desenvolver através da tecnologia, estratégias de e-commerce'\n",
        "# Apresentação\n",
        "apresentacao = f\"Oi! Eu sou a {nome}, tenho {idade} anos, moro em {cidade} e meu signo é {signo}. Eu {curiosidade} e estou na área de {trabalho}. \\nTento {pretensão}, mais especificamente em comportamento de consumo.\"\n",
        "\n",
        "# Exibindo a apresentação\n",
        "print(apresentacao)\n",
        "\n"
      ],
      "metadata": {
        "id": "kil7YL7Z3AoV",
        "outputId": "eb1ffaa5-b4c0-48e4-8f1a-c7a88c2495e5",
        "colab": {
          "base_uri": "https://localhost:8080/"
        }
      },
      "execution_count": 54,
      "outputs": [
        {
          "output_type": "stream",
          "name": "stdout",
          "text": [
            "Oi! Eu sou a Esther, tenho 25 anos, moro em Belo Horizonte e meu signo é Escorpião. Eu Amo estudar e estou na área de tecnologia há quase dois anos. \n",
            "Tento desenvolver através da tecnologia, estratégias de e-commerce, mais especificamente em comportamento de consumo.\n"
          ]
        }
      ]
    },
    {
      "cell_type": "markdown",
      "source": [
        "\n",
        "\n",
        "---\n",
        "\n"
      ],
      "metadata": {
        "id": "dgkbPq2JK7ES"
      }
    },
    {
      "cell_type": "markdown",
      "source": [
        "### B) **Qual o maior valor dessa lista de gastos?**\n",
        "\n"
      ],
      "metadata": {
        "id": "jQnXX8Ii348J"
      }
    },
    {
      "cell_type": "code",
      "source": [
        "gastos = [10.60, 11.99, 5.50, 10, 45.99, 7.50, 4.00]"
      ],
      "metadata": {
        "id": "8CeAhHTf9aYk"
      },
      "execution_count": 29,
      "outputs": []
    },
    {
      "cell_type": "code",
      "source": [
        "# O valor mais caro é: 45.99"
      ],
      "metadata": {
        "id": "EWRw9Zkn-RWL"
      },
      "execution_count": 27,
      "outputs": []
    },
    {
      "cell_type": "code",
      "source": [
        "# Resposta aqui\n",
        "gastos = [10.60, 11.99, 5.50, 10, 45.99, 7.50, 4.00]\n",
        "maior_gasto = max(gastos)\n",
        "print(maior_gasto)\n",
        "\n",
        "\n"
      ],
      "metadata": {
        "id": "muN_hCwu-dWp",
        "outputId": "d922de9a-1556-455c-ea57-d060dc73b0ab",
        "colab": {
          "base_uri": "https://localhost:8080/"
        }
      },
      "execution_count": 30,
      "outputs": [
        {
          "output_type": "stream",
          "name": "stdout",
          "text": [
            "45.99\n"
          ]
        }
      ]
    },
    {
      "cell_type": "markdown",
      "source": [
        "\n",
        "\n",
        "---\n",
        "\n"
      ],
      "metadata": {
        "id": "skCyGhKG-gpv"
      }
    },
    {
      "cell_type": "markdown",
      "source": [
        "### C) **Qual a média dessa lista?**:\n",
        "\n"
      ],
      "metadata": {
        "id": "7-fmR1dU9Lmm"
      }
    },
    {
      "cell_type": "code",
      "source": [
        "numeros = [10,80,50,90,70]"
      ],
      "metadata": {
        "id": "_x74pbVn7t91"
      },
      "execution_count": null,
      "outputs": []
    },
    {
      "cell_type": "code",
      "source": [
        "# A média dos números é: 60.0"
      ],
      "metadata": {
        "id": "QGJ9F4go8nmt"
      },
      "execution_count": null,
      "outputs": []
    },
    {
      "cell_type": "code",
      "source": [
        "# Resposta aqui\n",
        "numeros = [10, 80, 50, 90, 70]\n",
        "media = sum(numeros) / len(numeros)\n",
        "print(media)\n",
        "\n"
      ],
      "metadata": {
        "id": "C8SOjNdB8Ptz",
        "outputId": "7ebf5587-41c1-41b8-a951-d09755a5e375",
        "colab": {
          "base_uri": "https://localhost:8080/"
        }
      },
      "execution_count": 31,
      "outputs": [
        {
          "output_type": "stream",
          "name": "stdout",
          "text": [
            "60.0\n"
          ]
        }
      ]
    },
    {
      "cell_type": "markdown",
      "source": [
        "\n",
        "\n",
        "---\n",
        "\n"
      ],
      "metadata": {
        "id": "A5riB5veK95b"
      }
    },
    {
      "cell_type": "markdown",
      "source": [
        "### D) **Qual a média final dessas notas, qual a maior e qual a menor nota**"
      ],
      "metadata": {
        "id": "goAxWssZ_N5a"
      }
    },
    {
      "cell_type": "code",
      "source": [
        "notas = [10,7.8, 6, 8, 9]\n"
      ],
      "metadata": {
        "id": "_IY5S15p_YIR"
      },
      "execution_count": 34,
      "outputs": []
    },
    {
      "cell_type": "code",
      "source": [
        "# A média final é 8.16. A sua maior nota foi 10 e a menor nota foi 6!"
      ],
      "metadata": {
        "id": "Xa-J0VSI_6YZ"
      },
      "execution_count": 32,
      "outputs": []
    },
    {
      "cell_type": "code",
      "source": [
        "# Resposta aqui\n",
        "media = sum(notas) / len(notas)\n",
        "maior_nota = max(notas)\n",
        "menor_nota = min(notas)\n",
        "print(f\"A média final é {media}. A sua maior nota foi {maior_nota} e a menor nota foi {menor_nota}!\")"
      ],
      "metadata": {
        "id": "X9y44o2vk-pb",
        "outputId": "4e9c89fd-67f9-478d-dc03-ab93226a7bf2",
        "colab": {
          "base_uri": "https://localhost:8080/"
        }
      },
      "execution_count": 35,
      "outputs": [
        {
          "output_type": "stream",
          "name": "stdout",
          "text": [
            "A média final é 8.16. A sua maior nota foi 10 e a menor nota foi 6!\n"
          ]
        }
      ]
    },
    {
      "cell_type": "markdown",
      "source": [
        "\n",
        "\n",
        "---\n",
        "\n"
      ],
      "metadata": {
        "id": "ifwPeyZQK-2l"
      }
    },
    {
      "cell_type": "markdown",
      "source": [
        "### E) **Com as mesmas informações do exercício anterior, apresente se a aluna foi APROVADA ou REPROVADA**"
      ],
      "metadata": {
        "id": "p8L7DdPbApDN"
      }
    },
    {
      "cell_type": "markdown",
      "source": [
        "*  Se a média for igual ou superior a 6 apresentar a mensagem \"Parabéns, você foi APROVADA!\"\n",
        "*  Se a média for menor, apresentar \"Não foi dessa vez, infelizmente você foi REPROVADA!\""
      ],
      "metadata": {
        "id": "kb21A5Z1A7CU"
      }
    },
    {
      "cell_type": "code",
      "source": [
        "# Parabéns você foi aprovada!"
      ],
      "metadata": {
        "id": "InjCDLOZBZhC"
      },
      "execution_count": null,
      "outputs": []
    },
    {
      "cell_type": "code",
      "source": [
        "# Resposta aqui\n",
        "media = sum(notas) / len(notas)\n",
        "if media >= 6:\n",
        "    print(\"Parabéns, você foi APROVADA!\")\n",
        "else:\n",
        "    print(\"Não foi dessa vez, infelizmente você foi REPROVADA!\")"
      ],
      "metadata": {
        "id": "g2nUuyoUalog",
        "outputId": "767ac48e-a6c0-42ba-fb9d-4e06e05e5f7e",
        "colab": {
          "base_uri": "https://localhost:8080/"
        }
      },
      "execution_count": 37,
      "outputs": [
        {
          "output_type": "stream",
          "name": "stdout",
          "text": [
            "Parabéns, você foi APROVADA!\n"
          ]
        }
      ]
    },
    {
      "cell_type": "markdown",
      "source": [
        "\n",
        "\n",
        "---\n",
        "\n"
      ],
      "metadata": {
        "id": "X5Ya3MHRK_4N"
      }
    },
    {
      "cell_type": "markdown",
      "source": [
        "### F) **Desenvolva um programa que realize as quatro operações básicas (adição, subtração, multiplicação e divisão) entre dois números. A usuária deve escolher a operação e inserir os valores**"
      ],
      "metadata": {
        "id": "YT8vTnW2ENVL"
      }
    },
    {
      "cell_type": "code",
      "source": [
        "#Digite o primeiro número: 10\n",
        "#Digite o segundo número: 20\n",
        "#Digite a operação (+, -, *, /): +\n",
        "#Resultado: 30.0"
      ],
      "metadata": {
        "id": "gpmOjgseE4aD"
      },
      "execution_count": null,
      "outputs": []
    },
    {
      "cell_type": "code",
      "source": [
        "# Resposta aqui\n",
        "# Solicita os números ao usuário\n",
        "numero1 = float(input(\"Digite o primeiro número: \"))\n",
        "numero2 = float(input(\"Digite o segundo número: \"))\n",
        "\n",
        "# Solicita a operação ao usuário\n",
        "operacao = input(\"Digite a operação (+, -, *, /): \")\n",
        "\n",
        "# Realiza a operação escolhida e exibe o resultado\n",
        "if operacao == '+':\n",
        "    resultado = numero1 + numero2\n",
        "elif operacao == '-':\n",
        "    resultado = numero1 - numero2\n",
        "elif operacao == '*':\n",
        "    resultado = numero1 * numero2\n",
        "elif operacao == '/':\n",
        "    # Verifica se o segundo número não é zero antes de realizar a divisão\n",
        "    if numero2 != 0:\n",
        "        resultado = numero1 / numero2\n",
        "    else:\n",
        "        resultado = \"Erro: Divisão por zero não é permitida!\"\n",
        "else:\n",
        "    resultado = \"Operação inválida!\"\n",
        "\n",
        "# Exibe o resultado\n",
        "print(\"Resultado:\", resultado)\n"
      ],
      "metadata": {
        "id": "iTu22D0VEinD",
        "outputId": "049f4515-e639-448e-c6fd-d323cc354aed",
        "colab": {
          "base_uri": "https://localhost:8080/"
        }
      },
      "execution_count": 38,
      "outputs": [
        {
          "output_type": "stream",
          "name": "stdout",
          "text": [
            "Digite o primeiro número: 5\n",
            "Digite o segundo número: 7\n",
            "Digite a operação (+, -, *, /): +\n",
            "Resultado: 12.0\n"
          ]
        }
      ]
    },
    {
      "cell_type": "code",
      "source": [
        "# Funções para operações\n",
        "def adicionar(a, b):\n",
        "    return a + b\n",
        "\n",
        "def subtrair(a, b):\n",
        "    return a - b\n",
        "\n",
        "def multiplicar(a, b):\n",
        "    return a * b\n",
        "\n",
        "def dividir(a, b):\n",
        "    if b != 0:\n",
        "        return a / b\n",
        "    else:\n",
        "        return \"Erro: Divisão por zero não é permitida!\"\n",
        "\n",
        "# Dicionário para mapear operações\n",
        "operacoes = {\n",
        "    '+': adicionar,\n",
        "    '-': subtrair,\n",
        "    '*': multiplicar,\n",
        "    '/': dividir\n",
        "}\n",
        "\n",
        "# Solicita os números ao usuário\n",
        "numero1 = float(input(\"Digite o primeiro número: \"))\n",
        "numero2 = float(input(\"Digite o segundo número: \"))\n",
        "\n",
        "# Solicita a operação ao usuário\n",
        "operacao = input(\"Digite a operação (+, -, *, /): \")\n",
        "\n",
        "# Realiza a operação escolhida e exibe o resultado\n",
        "if operacao in operacoes:\n",
        "    resultado = operacoes[operacao](numero1, numero2)\n",
        "else:\n",
        "    resultado = \"Operação inválida!\"\n",
        "\n",
        "# Exibe o resultado\n",
        "print(\"Resultado:\", resultado)\n"
      ],
      "metadata": {
        "id": "EBrCWn7FrHeA",
        "outputId": "a30c3eab-1f23-4ec8-f8e8-70126cc5e6ce",
        "colab": {
          "base_uri": "https://localhost:8080/"
        }
      },
      "execution_count": 55,
      "outputs": [
        {
          "output_type": "stream",
          "name": "stdout",
          "text": [
            "Digite o primeiro número: 8\n",
            "Digite o segundo número: 5\n",
            "Digite a operação (+, -, *, /): 30\n",
            "Resultado: Operação inválida!\n"
          ]
        }
      ]
    },
    {
      "cell_type": "markdown",
      "source": [
        "\n",
        "\n",
        "---\n",
        "\n"
      ],
      "metadata": {
        "id": "X0ZvZeNCLA04"
      }
    },
    {
      "cell_type": "markdown",
      "source": [
        "### G) **Faça um Programa que leia três números e mostre-os em ordem decrescente.**"
      ],
      "metadata": {
        "id": "vdf5rEiZF5KM"
      }
    },
    {
      "cell_type": "code",
      "source": [
        "# Resposta aqui\n",
        "# Solicita os três números ao usuário\n",
        "numero1 = float(input(\"Digite o primeiro número: \"))\n",
        "numero2 = float(input(\"Digite o segundo número: \"))\n",
        "numero3 = float(input(\"Digite o terceiro número: \"))\n",
        "\n",
        "# Coloca os números em uma lista\n",
        "numeros = [numero1, numero2, numero3]\n",
        "\n",
        "# Ordena a lista em ordem decrescente\n",
        "numeros.sort(reverse=True)\n",
        "\n",
        "# Exibe os números em ordem decrescente\n",
        "print(\"Números em ordem decrescente:\", numeros)\n"
      ],
      "metadata": {
        "id": "PMPrtPEOF7eE",
        "outputId": "cc094403-685f-43d0-a40d-70b254f7a4fe",
        "colab": {
          "base_uri": "https://localhost:8080/"
        }
      },
      "execution_count": 39,
      "outputs": [
        {
          "output_type": "stream",
          "name": "stdout",
          "text": [
            "Digite o primeiro número: 10\n",
            "Digite o segundo número: 20\n",
            "Digite o terceiro número: 30\n",
            "Números em ordem decrescente: [30.0, 20.0, 10.0]\n"
          ]
        }
      ]
    },
    {
      "cell_type": "markdown",
      "source": [
        "\n",
        "\n",
        "---\n",
        "\n"
      ],
      "metadata": {
        "id": "lX9BdmxyLBtt"
      }
    },
    {
      "cell_type": "markdown",
      "source": [
        "### H) **Faça uma função que retorne o reverso de um número inteiro informado. Por exemplo: 153 -> 351**"
      ],
      "metadata": {
        "id": "p0A-lta0Gmcq"
      }
    },
    {
      "cell_type": "code",
      "source": [
        "# Resposta aqui\n",
        "def inverter_numero(numero):\n",
        "    # Converte o número para string, inverte a string e depois converte de volta para inteiro\n",
        "    numero_invertido = int(str(numero)[::-1])\n",
        "    return numero_invertido\n",
        "\n",
        "# Exemplo de uso da função\n",
        "numero = 153\n",
        "resultado = inverter_numero(numero)\n",
        "print(resultado)  # Saída: 351\n"
      ],
      "metadata": {
        "id": "0Ppk5OneHom-",
        "outputId": "2be8a07e-0dab-48d5-c981-481efd794456",
        "colab": {
          "base_uri": "https://localhost:8080/"
        }
      },
      "execution_count": 40,
      "outputs": [
        {
          "output_type": "stream",
          "name": "stdout",
          "text": [
            "351\n"
          ]
        }
      ]
    },
    {
      "cell_type": "markdown",
      "source": [
        "\n",
        "\n",
        "---\n",
        "\n"
      ],
      "metadata": {
        "id": "GWlXyhTlLCii"
      }
    },
    {
      "cell_type": "markdown",
      "source": [
        "### I) **Faça um programa que solicite o nome do usuário e imprima-o em formato de escada.**"
      ],
      "metadata": {
        "id": "4DKAX96gKJZv"
      }
    },
    {
      "cell_type": "code",
      "source": [
        "#Digite seu nome: amanda\n",
        "#a\n",
        "#am\n",
        "#ama\n",
        "#aman\n",
        "#amand\n",
        "#amanda"
      ],
      "metadata": {
        "id": "yRsRy144KKds"
      },
      "execution_count": 41,
      "outputs": []
    },
    {
      "cell_type": "code",
      "source": [
        "# Resposta aqui\n",
        "# Solicita o nome do usuário\n",
        "nome = input(\"Digite seu nome: \")\n",
        "\n",
        "# Imprime o nome em formato de escada\n",
        "for i in range(1, len(nome) + 1):\n",
        "    print(nome[:i])"
      ],
      "metadata": {
        "id": "N2ohocU_KO08",
        "outputId": "2bd2ae21-bea8-4fae-de5a-76d5d4938415",
        "colab": {
          "base_uri": "https://localhost:8080/"
        }
      },
      "execution_count": 42,
      "outputs": [
        {
          "output_type": "stream",
          "name": "stdout",
          "text": [
            "Digite seu nome: Esther\n",
            "E\n",
            "Es\n",
            "Est\n",
            "Esth\n",
            "Esthe\n",
            "Esther\n"
          ]
        }
      ]
    }
  ]
}